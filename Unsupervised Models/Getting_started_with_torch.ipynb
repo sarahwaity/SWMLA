{
 "cells": [
  {
   "cell_type": "code",
   "execution_count": 4,
   "metadata": {},
   "outputs": [
    {
     "name": "stdout",
     "output_type": "stream",
     "text": [
      "2.7.1\n",
      "Using CPU\n"
     ]
    }
   ],
   "source": [
    "import torch\n",
    "from torch import nn\n",
    "from torchvision import datasets, transforms\n",
    "from torch.utils.data import DataLoader\n",
    "import matplotlib.pyplot as plt\n",
    "print(torch.__version__)\n",
    "print(\"CUDA available?\" if torch.cuda.is_available() else \"Using CPU\")"
   ]
  },
  {
   "cell_type": "code",
   "execution_count": null,
   "metadata": {},
   "outputs": [
    {
     "name": "stderr",
     "output_type": "stream",
     "text": [
      "100.0%\n",
      "100.0%\n",
      "100.0%\n",
      "100.0%\n"
     ]
    },
    {
     "name": "stdout",
     "output_type": "stream",
     "text": [
      "Epoch 1: loss = 0.2113\n",
      "Epoch 2: loss = 0.2457\n",
      "Epoch 3: loss = 0.0471\n",
      "Epoch 4: loss = 0.1373\n",
      "Epoch 5: loss = 0.0351\n"
     ]
    }
   ],
   "source": [
    "# Transform: normalize MNIST to [0,1]\n",
    "#this next line converts the MNIST images to tensors\n",
    "#and normalizes them to the range [0, 1]\n",
    "transform = transforms.ToTensor()\n",
    "\n",
    "# Download MNIST\n",
    "#train_data is the training set, test_data is the test set\n",
    "#both are downloaded from the 'data' directory\n",
    "\n",
    "train_data = datasets.MNIST(root='data', train=True, download=True, transform=transform)\n",
    "test_data  = datasets.MNIST(root='data', train=False, download=True, transform=transform)\n",
    "\n",
    "train_loader = DataLoader(train_data, batch_size=64, shuffle=True)\n",
    "test_loader  = DataLoader(test_data, batch_size=64, shuffle=False)\n",
    "\n",
    "# Define a simple 2-layer neural net\n",
    "# this is a feedforward neural network \n",
    "model = nn.Sequential(\n",
    "    nn.Flatten(),# flatten the image to a 1D tensor 28x28 → 784\n",
    "    nn.Linear(784, 128), # first layer: 784 inputs, 128 outputs\n",
    "    nn.ReLU(), #activation function that introduces non-linearity\n",
    "    nn.Linear(128, 10) # second layer: 128 inputs, 10 outputs (one for each digit 0-9)\n",
    ")\n",
    "\n",
    "# Loss and optimizer\n",
    "loss_fn = nn.CrossEntropyLoss() #specifies the loss function \n",
    "optimizer = torch.optim.Adam(model.parameters(), lr=1e-3) #defines the optimizer to update the model's parameters\n",
    "\n",
    "# Training loop\n",
    "#makes 5 full passes over the training data\n",
    "#for each epoch, it iterates over the training data, where X are images and y are labels\n",
    "# loss computes the loss between the predicted outputs and the true labels\n",
    "# optimizer.zero_grad() resets the gradients to zero before backpropagation\n",
    "# loss.backward() computes the gradients of the loss with respect to the model parameters\n",
    "# optimizer.step() updates the model parameters based on the computed gradients\n",
    "for epoch in range(5):\n",
    "    for X, y in train_loader:\n",
    "        pred = model(X)\n",
    "        loss = loss_fn(pred, y)\n",
    "\n",
    "        optimizer.zero_grad()\n",
    "        loss.backward()\n",
    "        optimizer.step()\n",
    "    \n",
    "    print(f\"Epoch {epoch+1}: loss = {loss.item():.4f}\")"
   ]
  },
  {
   "cell_type": "code",
   "execution_count": 6,
   "metadata": {},
   "outputs": [
    {
     "name": "stdout",
     "output_type": "stream",
     "text": [
      "Test Accuracy: 97.24%\n"
     ]
    }
   ],
   "source": [
    "correct = 0\n",
    "total = 0\n",
    "\n",
    "with torch.no_grad():\n",
    "    for X, y in test_loader:\n",
    "        pred = model(X)\n",
    "        predicted = pred.argmax(1)\n",
    "        correct += (predicted == y).sum().item()\n",
    "        total += y.size(0)\n",
    "\n",
    "print(f\"Test Accuracy: {correct / total:.2%}\")"
   ]
  }
 ],
 "metadata": {
  "kernelspec": {
   "display_name": "swmla-hEhieMT--py3.11",
   "language": "python",
   "name": "python3"
  },
  "language_info": {
   "codemirror_mode": {
    "name": "ipython",
    "version": 3
   },
   "file_extension": ".py",
   "mimetype": "text/x-python",
   "name": "python",
   "nbconvert_exporter": "python",
   "pygments_lexer": "ipython3",
   "version": "3.11.5"
  }
 },
 "nbformat": 4,
 "nbformat_minor": 2
}
