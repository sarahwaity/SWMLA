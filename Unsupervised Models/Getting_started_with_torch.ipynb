{
 "cells": [
  {
   "cell_type": "code",
   "execution_count": 21,
   "metadata": {},
   "outputs": [
    {
     "name": "stdout",
     "output_type": "stream",
     "text": [
      "2.7.1\n",
      "Using CPU\n"
     ]
    }
   ],
   "source": [
    "import torch\n",
    "from torch import nn\n",
    "from torchvision import datasets, transforms\n",
    "from torch.utils.data import DataLoader\n",
    "import matplotlib.pyplot as plt\n",
    "import pandas as pd\n",
    "import numpy as np\n",
    "print(torch.__version__)\n",
    "print(\"CUDA available?\" if torch.cuda.is_available() else \"Using CPU\")"
   ]
  },
  {
   "cell_type": "code",
   "execution_count": 22,
   "metadata": {},
   "outputs": [
    {
     "name": "stdout",
     "output_type": "stream",
     "text": [
      "Epoch 1: loss = 0.0884\n",
      "Epoch 2: loss = 0.0553\n",
      "Epoch 3: loss = 0.0955\n",
      "Epoch 4: loss = 0.0547\n",
      "Epoch 5: loss = 0.1572\n"
     ]
    }
   ],
   "source": [
    "# Transform: normalize MNIST to [0,1]\n",
    "#this next line converts the MNIST images to tensors\n",
    "#and normalizes them to the range [0, 1]\n",
    "transform = transforms.ToTensor()\n",
    "\n",
    "# Download MNIST\n",
    "#train_data is the training set, test_data is the test set\n",
    "#both are downloaded from the 'data' directory\n",
    "\n",
    "train_data = datasets.MNIST(root='data', train=True, download=True, transform=transform)\n",
    "test_data  = datasets.MNIST(root='data', train=False, download=True, transform=transform)\n",
    "\n",
    "train_loader = DataLoader(train_data, batch_size=64, shuffle=True)\n",
    "test_loader  = DataLoader(test_data, batch_size=64, shuffle=False)\n",
    "\n",
    "# Define a simple 2-layer neural net\n",
    "# this is a feedforward neural network \n",
    "model = nn.Sequential(\n",
    "    nn.Flatten(),# flatten the image to a 1D tensor 28x28 → 784\n",
    "    nn.Linear(784, 128), # first layer: 784 inputs, 128 outputs\n",
    "    nn.ReLU(), #activation function that introduces non-linearity\n",
    "    nn.Linear(128, 10) # second layer: 128 inputs, 10 outputs (one for each digit 0-9)\n",
    ")\n",
    "\n",
    "# Loss and optimizer\n",
    "loss_fn = nn.CrossEntropyLoss() #specifies the loss function \n",
    "optimizer = torch.optim.Adam(model.parameters(), lr=1e-3) #defines the optimizer to update the model's parameters\n",
    "\n",
    "# Training loop\n",
    "#makes 5 full passes over the training data\n",
    "#for each epoch, it iterates over the training data, where X are images and y are labels\n",
    "# loss computes the loss between the predicted outputs and the true labels\n",
    "# optimizer.zero_grad() resets the gradients to zero before backpropagation\n",
    "# loss.backward() computes the gradients of the loss with respect to the model parameters\n",
    "# optimizer.step() updates the model parameters based on the computed gradients\n",
    "for epoch in range(5):\n",
    "    for X, y in train_loader:\n",
    "        pred = model(X)\n",
    "        loss = loss_fn(pred, y)\n",
    "\n",
    "        optimizer.zero_grad()\n",
    "        loss.backward()\n",
    "        optimizer.step()\n",
    "    \n",
    "    print(f\"Epoch {epoch+1}: loss = {loss.item():.4f}\")"
   ]
  },
  {
   "cell_type": "code",
   "execution_count": 23,
   "metadata": {},
   "outputs": [
    {
     "name": "stdout",
     "output_type": "stream",
     "text": [
      "Test Accuracy: 97.33%\n"
     ]
    }
   ],
   "source": [
    "correct = 0\n",
    "total = 0\n",
    "\n",
    "with torch.no_grad():\n",
    "    for X, y in test_loader:\n",
    "        pred = model(X)\n",
    "        predicted = pred.argmax(1)\n",
    "        correct += (predicted == y).sum().item()\n",
    "        total += y.size(0)\n",
    "\n",
    "print(f\"Test Accuracy: {correct / total:.2%}\")"
   ]
  },
  {
   "cell_type": "code",
   "execution_count": 24,
   "metadata": {},
   "outputs": [
    {
     "name": "stdout",
     "output_type": "stream",
     "text": [
      "(856, 640) (215, 640)\n"
     ]
    },
    {
     "name": "stderr",
     "output_type": "stream",
     "text": [
      "/var/folders/0j/t0hxrdb15wl0ys_hv70_jmgm0000gn/T/ipykernel_1528/1378314653.py:8: DtypeWarning: Columns (1) have mixed types. Specify dtype option on import or set low_memory=False.\n",
      "  data_df = pd.read_csv('data/embeddings/mutation_embeddings_esm2_t30_150M_UR50D.csv', index_col=0)\n"
     ]
    }
   ],
   "source": [
    "from sklearn.model_selection import train_test_split\n",
    "import pandas as pd\n",
    "from sklearn.preprocessing import StandardScaler\n",
    "from torch.utils.data import TensorDataset, DataLoader\n",
    "\n",
    "\n",
    "\n",
    "data_df = pd.read_csv('data/embeddings/mutation_embeddings_esm2_t30_150M_UR50D.csv', index_col=0)\n",
    "X = data_df.drop(columns=['ID', 'Effect'])\n",
    "y = data_df['Effect']\n",
    "X_train, X_test, y_train, y_test = train_test_split(X, y, test_size=0.2, random_state=42)\n",
    "\n",
    "print(X_train.shape, X_test.shape)\n",
    "\n",
    "\n",
    "scaler = StandardScaler()\n",
    "X_train_scaled = scaler.fit_transform(X_train)\n",
    "X_test_scaled = scaler.transform(X_test)\n",
    "\n",
    "X_train_tensor = torch.tensor(X_train_scaled, dtype=torch.float32)\n",
    "X_test_tensor = torch.tensor(X_test_scaled, dtype=torch.float32)\n",
    "y_train_tensor = torch.tensor(y_train.values, dtype=torch.float32)  # or torch.long for classification\n",
    "y_test_tensor = torch.tensor(y_test.values, dtype=torch.float32)    # or torch.long for classification\n",
    "\n",
    "\n",
    "train_dataset = TensorDataset(X_train_tensor, y_train_tensor)\n",
    "test_dataset = TensorDataset(X_test_tensor, y_test_tensor)\n",
    "\n",
    "train_loader = DataLoader(train_dataset, batch_size=64, shuffle=True)\n",
    "test_loader  = DataLoader(test_dataset, batch_size=64, shuffle=False)"
   ]
  },
  {
   "cell_type": "code",
   "execution_count": 33,
   "metadata": {},
   "outputs": [
    {
     "data": {
      "text/plain": [
       "torch.Size([23, 640])"
      ]
     },
     "execution_count": 33,
     "metadata": {},
     "output_type": "execute_result"
    }
   ],
   "source": [
    "np.shape(X)"
   ]
  },
  {
   "cell_type": "code",
   "execution_count": null,
   "metadata": {},
   "outputs": [
    {
     "name": "stdout",
     "output_type": "stream",
     "text": [
      "Epoch 1: loss = 0.4280\n",
      "Epoch 2: loss = 0.2769\n",
      "Epoch 3: loss = 0.2081\n",
      "Epoch 4: loss = 0.1946\n",
      "Epoch 5: loss = 0.3454\n",
      "Test R²: -6330.9409\n"
     ]
    },
    {
     "name": "stderr",
     "output_type": "stream",
     "text": [
      "/Users/sarah/Library/Caches/pypoetry/virtualenvs/swmla-hEhieMT--py3.11/lib/python3.11/site-packages/torch/nn/modules/loss.py:610: UserWarning: Using a target size (torch.Size([64])) that is different to the input size (torch.Size([64, 1])). This will likely lead to incorrect results due to broadcasting. Please ensure they have the same size.\n",
      "  return F.mse_loss(input, target, reduction=self.reduction)\n",
      "/Users/sarah/Library/Caches/pypoetry/virtualenvs/swmla-hEhieMT--py3.11/lib/python3.11/site-packages/torch/nn/modules/loss.py:610: UserWarning: Using a target size (torch.Size([24])) that is different to the input size (torch.Size([24, 1])). This will likely lead to incorrect results due to broadcasting. Please ensure they have the same size.\n",
      "  return F.mse_loss(input, target, reduction=self.reduction)\n"
     ]
    }
   ],
   "source": [
    "model = nn.Sequential(\n",
    "    nn.Linear(640, 128), # first layer: 640 inputs, 128 outputs\n",
    "    nn.ReLU(), #activation function that introduces non-linearity\n",
    "    nn.Linear(128, 1) # second layer: 128 inputs, 1 output\n",
    ")\n",
    "\n",
    "# Loss and optimizer\n",
    "loss_fn = nn.MSELoss() #specifies the loss function \n",
    "optimizer = torch.optim.Adam(model.parameters(), lr=1e-3) #defines the optimizer to update the model's parameters\n",
    "\n",
    "# Training loop\n",
    "#makes 5 full passes over the training data\n",
    "#for each epoch, it iterates over the training data, where X are images and y are labels\n",
    "# loss computes the loss between the predicted outputs and the true labels\n",
    "# optimizer.zero_grad() resets the gradients to zero before backpropagation\n",
    "# loss.backward() computes the gradients of the loss with respect to the model parameters\n",
    "# optimizer.step() updates the model parameters based on the computed gradients\n",
    "mse = 0\n",
    "total = 0\n",
    "\n",
    "y_true = []\n",
    "y_pred = []\n",
    "for epoch in range(5):\n",
    "    for X, y in train_loader:\n",
    "        pred = model(X)\n",
    "        loss = loss_fn(pred, y)\n",
    "    \n",
    "        optimizer.zero_grad()\n",
    "        loss.backward()\n",
    "        optimizer.step()\n",
    "\n",
    "        pred = pred.detach()  # shape: [batch_size]\n",
    "        mse += ((pred - y) ** 2).sum().item()\n",
    "        total += y.size(0)\n",
    "        y_true.extend(y.cpu().numpy())\n",
    "        y_pred.extend(pred.cpu().numpy())\n",
    "\n",
    "    \n",
    "    print(f\"Epoch {epoch+1}: loss = {loss.item():.4f}\")\n",
    "\n",
    "# Calculate R²\n",
    "y_true = np.array(y_true)\n",
    "y_pred = np.array(y_pred)\n",
    "ss_res = ((y_true - y_pred) ** 2).sum()\n",
    "ss_tot = ((y_true - y_true.mean()) ** 2).sum()\n",
    "r2 = 1 - ss_res / ss_tot\n",
    "print(f\"Test R²: {r2:.4f}\")"
   ]
  },
  {
   "cell_type": "code",
   "execution_count": 30,
   "metadata": {},
   "outputs": [
    {
     "name": "stdout",
     "output_type": "stream",
     "text": [
      "Test MSE: 0.2233\n",
      "Test R²: -0.0603\n"
     ]
    }
   ],
   "source": [
    "import numpy as np\n",
    "mse = 0\n",
    "total = 0\n",
    "y_true = []\n",
    "y_pred = []\n",
    "\n",
    "with torch.no_grad():\n",
    "    for X, y in test_loader:\n",
    "        pred = model(X).squeeze()\n",
    "        mse += ((pred - y) ** 2).sum().item()\n",
    "        total += y.size(0)\n",
    "        y_true.extend(y.cpu().numpy())\n",
    "        y_pred.extend(pred.cpu().numpy())\n",
    "\n",
    "print(f\"Test MSE: {mse / total:.4f}\")\n",
    "\n",
    "# Calculate R²\n",
    "y_true = np.array(y_true)\n",
    "y_pred = np.array(y_pred)\n",
    "ss_res = ((y_true - y_pred) ** 2).sum()\n",
    "ss_tot = ((y_true - y_true.mean()) ** 2).sum()\n",
    "r2 = 1 - ss_res / ss_tot\n",
    "print(f\"Test R²: {r2:.4f}\")"
   ]
  },
  {
   "cell_type": "code",
   "execution_count": 34,
   "metadata": {},
   "outputs": [
    {
     "name": "stderr",
     "output_type": "stream",
     "text": [
      "/Users/sarah/Library/Caches/pypoetry/virtualenvs/swmla-hEhieMT--py3.11/lib/python3.11/site-packages/torch/nn/modules/loss.py:610: UserWarning: Using a target size (torch.Size([64])) that is different to the input size (torch.Size([64, 1])). This will likely lead to incorrect results due to broadcasting. Please ensure they have the same size.\n",
      "  return F.mse_loss(input, target, reduction=self.reduction)\n",
      "/Users/sarah/Library/Caches/pypoetry/virtualenvs/swmla-hEhieMT--py3.11/lib/python3.11/site-packages/torch/nn/modules/loss.py:610: UserWarning: Using a target size (torch.Size([24])) that is different to the input size (torch.Size([24, 1])). This will likely lead to incorrect results due to broadcasting. Please ensure they have the same size.\n",
      "  return F.mse_loss(input, target, reduction=self.reduction)\n"
     ]
    },
    {
     "name": "stdout",
     "output_type": "stream",
     "text": [
      "Epoch 1: loss = 0.3057\n",
      "Epoch 2: loss = 0.1672\n",
      "Epoch 3: loss = 0.2254\n",
      "Epoch 4: loss = 0.2913\n",
      "Epoch 5: loss = 0.1556\n",
      "Test MSE: 0.2212\n",
      "Test R²: -0.0502\n"
     ]
    }
   ],
   "source": [
    "import torch.nn as nn\n",
    "\n",
    "class Simple1DCNN(nn.Module):\n",
    "    def __init__(self):\n",
    "        super().__init__()\n",
    "        self.conv = nn.Sequential(\n",
    "            nn.Conv1d(1, 32, kernel_size=5, padding=2),  # 1 input channel, 32 output channels\n",
    "            nn.ReLU(),\n",
    "            nn.MaxPool1d(2),  # Downsample by 2 (output: [batch, 32, 320])\n",
    "            nn.Conv1d(32, 64, kernel_size=5, padding=2),\n",
    "            nn.ReLU(),\n",
    "            nn.MaxPool1d(2)   # Downsample by 2 (output: [batch, 64, 160])\n",
    "        )\n",
    "        self.fc = nn.Sequential(\n",
    "            nn.Flatten(),\n",
    "            nn.Linear(64 * 160, 128),\n",
    "            nn.ReLU(),\n",
    "            nn.Linear(128, 1)  # For regression\n",
    "        )\n",
    "\n",
    "    def forward(self, x):\n",
    "        x = x.unsqueeze(1)  # Add channel dimension: [batch, 1, 640]\n",
    "        x = self.conv(x)\n",
    "        x = self.fc(x)\n",
    "        return x\n",
    "\n",
    "model = Simple1DCNN()\n",
    "\n",
    "\n",
    "# Loss and optimizer\n",
    "loss_fn = nn.MSELoss() #specifies the loss function \n",
    "optimizer = torch.optim.Adam(model.parameters(), lr=1e-3) #defines the optimizer to update the model's parameters\n",
    "\n",
    "# Training loop\n",
    "#makes 5 full passes over the training data\n",
    "#for each epoch, it iterates over the training data, where X are images and y are labels\n",
    "# loss computes the loss between the predicted outputs and the true labels\n",
    "# optimizer.zero_grad() resets the gradients to zero before backpropagation\n",
    "# loss.backward() computes the gradients of the loss with respect to the model parameters\n",
    "# optimizer.step() updates the model parameters based on the computed gradients\n",
    "mse = 0\n",
    "total = 0\n",
    "\n",
    "y_true = []\n",
    "y_pred = []\n",
    "for epoch in range(5):\n",
    "    for X, y in train_loader:\n",
    "        pred = model(X)\n",
    "        loss = loss_fn(pred, y)\n",
    "    \n",
    "        optimizer.zero_grad()\n",
    "        loss.backward()\n",
    "        optimizer.step()\n",
    "    \n",
    "    print(f\"Epoch {epoch+1}: loss = {loss.item():.4f}\")\n",
    "\n",
    "import numpy as np\n",
    "mse = 0\n",
    "total = 0\n",
    "y_true = []\n",
    "y_pred = []\n",
    "\n",
    "with torch.no_grad():\n",
    "    for X, y in test_loader:\n",
    "        pred = model(X).squeeze()\n",
    "        mse += ((pred - y) ** 2).sum().item()\n",
    "        total += y.size(0)\n",
    "        y_true.extend(y.cpu().numpy())\n",
    "        y_pred.extend(pred.cpu().numpy())\n",
    "\n",
    "print(f\"Test MSE: {mse / total:.4f}\")\n",
    "\n",
    "# Calculate R²\n",
    "y_true = np.array(y_true)\n",
    "y_pred = np.array(y_pred)\n",
    "ss_res = ((y_true - y_pred) ** 2).sum()\n",
    "ss_tot = ((y_true - y_true.mean()) ** 2).sum()\n",
    "r2 = 1 - ss_res / ss_tot\n",
    "print(f\"Test R²: {r2:.4f}\")\n"
   ]
  },
  {
   "cell_type": "code",
   "execution_count": 37,
   "metadata": {},
   "outputs": [
    {
     "name": "stderr",
     "output_type": "stream",
     "text": [
      "/Users/sarah/Library/Caches/pypoetry/virtualenvs/swmla-hEhieMT--py3.11/lib/python3.11/site-packages/torch/nn/modules/loss.py:610: UserWarning: Using a target size (torch.Size([64])) that is different to the input size (torch.Size([64, 1])). This will likely lead to incorrect results due to broadcasting. Please ensure they have the same size.\n",
      "  return F.mse_loss(input, target, reduction=self.reduction)\n",
      "/Users/sarah/Library/Caches/pypoetry/virtualenvs/swmla-hEhieMT--py3.11/lib/python3.11/site-packages/torch/nn/modules/loss.py:610: UserWarning: Using a target size (torch.Size([24])) that is different to the input size (torch.Size([24, 1])). This will likely lead to incorrect results due to broadcasting. Please ensure they have the same size.\n",
      "  return F.mse_loss(input, target, reduction=self.reduction)\n"
     ]
    },
    {
     "name": "stdout",
     "output_type": "stream",
     "text": [
      "Epoch 1: loss = 0.3006\n",
      "Epoch 2: loss = 0.3010\n",
      "Epoch 3: loss = 0.4072\n",
      "Epoch 4: loss = 0.2466\n",
      "Epoch 5: loss = 0.2265\n",
      "Epoch 6: loss = 0.1589\n",
      "Epoch 7: loss = 0.2211\n",
      "Epoch 8: loss = 0.1623\n",
      "Epoch 9: loss = 0.1887\n",
      "Epoch 10: loss = 0.1333\n",
      "Epoch 11: loss = 0.3216\n",
      "Epoch 12: loss = 0.1600\n",
      "Epoch 13: loss = 0.1798\n",
      "Epoch 14: loss = 0.3246\n",
      "Epoch 15: loss = 0.3052\n",
      "Epoch 16: loss = 0.1264\n",
      "Epoch 17: loss = 0.1255\n",
      "Epoch 18: loss = 0.1166\n",
      "Epoch 19: loss = 0.2537\n",
      "Epoch 20: loss = 0.5330\n",
      "Test MSE: 0.2190\n",
      "Test R²: -0.0400\n"
     ]
    }
   ],
   "source": [
    "\n",
    "import torch.nn as nn\n",
    "\n",
    "class DenseRegressor(nn.Module):\n",
    "    def __init__(self):\n",
    "        super().__init__()\n",
    "        self.net = nn.Sequential(\n",
    "            nn.Linear(640, 256),   # First hidden layer\n",
    "            nn.ReLU(),\n",
    "            nn.Linear(256, 128),   # Second hidden layer\n",
    "            nn.ReLU(),\n",
    "            nn.Linear(128, 64),    # Third hidden layer\n",
    "            nn.ReLU(),\n",
    "            nn.Linear(64, 1)       # Output layer for regression\n",
    "        )\n",
    "\n",
    "    def forward(self, x):\n",
    "        return self.net(x)\n",
    "\n",
    "model = DenseRegressor()\n",
    "\n",
    "\n",
    "# Loss and optimizer\n",
    "loss_fn = nn.MSELoss() #specifies the loss function \n",
    "optimizer = torch.optim.Adam(model.parameters(), lr=5e-4) #defines the optimizer to update the model's parameters\n",
    "\n",
    "# Training loop\n",
    "#makes 5 full passes over the training data\n",
    "#for each epoch, it iterates over the training data, where X are images and y are labels\n",
    "# loss computes the loss between the predicted outputs and the true labels\n",
    "# optimizer.zero_grad() resets the gradients to zero before backpropagation\n",
    "# loss.backward() computes the gradients of the loss with respect to the model parameters\n",
    "# optimizer.step() updates the model parameters based on the computed gradients\n",
    "mse = 0\n",
    "total = 0\n",
    "\n",
    "y_true = []\n",
    "y_pred = []\n",
    "for epoch in range(20):\n",
    "    for X, y in train_loader:\n",
    "        pred = model(X)\n",
    "        loss = loss_fn(pred, y)\n",
    "    \n",
    "        optimizer.zero_grad()\n",
    "        loss.backward()\n",
    "        optimizer.step()\n",
    "    \n",
    "    print(f\"Epoch {epoch+1}: loss = {loss.item():.4f}\")\n",
    "\n",
    "import numpy as np\n",
    "mse = 0\n",
    "total = 0\n",
    "y_true = []\n",
    "y_pred = []\n",
    "\n",
    "with torch.no_grad():\n",
    "    for X, y in test_loader:\n",
    "        pred = model(X).squeeze()\n",
    "        mse += ((pred - y) ** 2).sum().item()\n",
    "        total += y.size(0)\n",
    "        y_true.extend(y.cpu().numpy())\n",
    "        y_pred.extend(pred.cpu().numpy())\n",
    "\n",
    "print(f\"Test MSE: {mse / total:.4f}\")\n",
    "\n",
    "# Calculate R²\n",
    "y_true = np.array(y_true)\n",
    "y_pred = np.array(y_pred)\n",
    "ss_res = ((y_true - y_pred) ** 2).sum()\n",
    "ss_tot = ((y_true - y_true.mean()) ** 2).sum()\n",
    "r2 = 1 - ss_res / ss_tot\n",
    "print(f\"Test R²: {r2:.4f}\")\n",
    "\n",
    "\n"
   ]
  }
 ],
 "metadata": {
  "kernelspec": {
   "display_name": "swmla-hEhieMT--py3.11",
   "language": "python",
   "name": "python3"
  },
  "language_info": {
   "codemirror_mode": {
    "name": "ipython",
    "version": 3
   },
   "file_extension": ".py",
   "mimetype": "text/x-python",
   "name": "python",
   "nbconvert_exporter": "python",
   "pygments_lexer": "ipython3",
   "version": "3.11.5"
  }
 },
 "nbformat": 4,
 "nbformat_minor": 2
}
